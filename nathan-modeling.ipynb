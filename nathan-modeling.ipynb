{
 "cells": [
  {
   "cell_type": "code",
   "execution_count": 16,
   "metadata": {},
   "outputs": [],
   "source": [
    "import os\n",
    "\n",
    "from matplotlib import pyplot as plt, animation as animation\n",
    "import numpy as np\n",
    "import pandas as pd\n",
    "from scipy.fft import fft, fftfreq\n",
    "\n",
    "from sklearn.preprocessing import OneHotEncoder, OrdinalEncoder\n",
    "from sklearn.metrics import accuracy_score\n",
    "from sklearn.model_selection import train_test_split\n",
    "\n",
    "from pykalman import KalmanFilter\n",
    "\n",
    "import pyedflib\n",
    "from pyedflib import highlevel\n",
    "\n",
    "import torch\n",
    "from torch import nn, optim, tensor\n",
    "\n",
    "π = np.pi"
   ]
  },
  {
   "cell_type": "code",
   "execution_count": 4,
   "metadata": {},
   "outputs": [],
   "source": [
    "# Data directory (only on Nathan's machine, just for exploring)\n",
    "path = 'nathan'\n",
    "\n",
    "# This patient is in the train\n",
    "patient_name = 'SC4111'\n",
    "\n",
    "psg_path = os.path.join(path, f'{patient_name}E0-PSG.edf')\n",
    "hyp_path = os.path.join(path, f'{patient_name}EC-Hypnogram.edf')\n",
    "\n",
    "signals, signal_headers, header = highlevel.read_edf(psg_path)\n",
    "hsignals, hsignal_headers, hheader = highlevel.read_edf(hyp_path)"
   ]
  },
  {
   "cell_type": "code",
   "execution_count": 5,
   "metadata": {},
   "outputs": [
    {
     "data": {
      "text/plain": [
       "{'EEG Fpz-Cz': {'dimension': 'uV',\n",
       "  'sample_rate': 100.0,\n",
       "  'sample_frequency': 100.0,\n",
       "  'physical_max': 201.0,\n",
       "  'physical_min': -204.0,\n",
       "  'digital_max': 2047,\n",
       "  'digital_min': -2048,\n",
       "  'prefilter': 'HP:0.5Hz LP:100Hz [enhanced cassette BW]',\n",
       "  'transducer': 'Ag-AgCl electrodes',\n",
       "  'idx': 0},\n",
       " 'EEG Pz-Oz': {'dimension': 'uV',\n",
       "  'sample_rate': 100.0,\n",
       "  'sample_frequency': 100.0,\n",
       "  'physical_max': 175.0,\n",
       "  'physical_min': -176.0,\n",
       "  'digital_max': 2047,\n",
       "  'digital_min': -2048,\n",
       "  'prefilter': 'HP:0.5Hz LP:100Hz [enhanced cassette BW]',\n",
       "  'transducer': 'Ag-AgCl electrodes',\n",
       "  'idx': 1},\n",
       " 'EOG horizontal': {'dimension': 'uV',\n",
       "  'sample_rate': 100.0,\n",
       "  'sample_frequency': 100.0,\n",
       "  'physical_max': 1032.0,\n",
       "  'physical_min': -1035.0,\n",
       "  'digital_max': 2047,\n",
       "  'digital_min': -2048,\n",
       "  'prefilter': 'HP:0.5Hz LP:100Hz [enhanced cassette BW]',\n",
       "  'transducer': 'Ag-AgCl electrodes',\n",
       "  'idx': 2},\n",
       " 'Resp oro-nasal': {'dimension': '',\n",
       "  'sample_rate': 1.0,\n",
       "  'sample_frequency': 1.0,\n",
       "  'physical_max': 2047.0,\n",
       "  'physical_min': -2048.0,\n",
       "  'digital_max': 2047,\n",
       "  'digital_min': -2048,\n",
       "  'prefilter': 'HP:0.03Hz LP:0.9Hz',\n",
       "  'transducer': 'Oral-nasal thermistors',\n",
       "  'idx': 3},\n",
       " 'EMG submental': {'dimension': 'uV',\n",
       "  'sample_rate': 1.0,\n",
       "  'sample_frequency': 1.0,\n",
       "  'physical_max': 5.0,\n",
       "  'physical_min': -5.0,\n",
       "  'digital_max': 2500,\n",
       "  'digital_min': -2500,\n",
       "  'prefilter': 'HP:16Hz Rectification LP:0.7Hz',\n",
       "  'transducer': 'Ag-AgCl electrodes',\n",
       "  'idx': 4},\n",
       " 'Temp rectal': {'dimension': '',\n",
       "  'sample_rate': 1.0,\n",
       "  'sample_frequency': 1.0,\n",
       "  'physical_max': 40.0,\n",
       "  'physical_min': 34.0,\n",
       "  'digital_max': 2750,\n",
       "  'digital_min': -2750,\n",
       "  'prefilter': '',\n",
       "  'transducer': 'Rectal thermistor',\n",
       "  'idx': 5},\n",
       " 'Event marker': {'dimension': '',\n",
       "  'sample_rate': 1.0,\n",
       "  'sample_frequency': 1.0,\n",
       "  'physical_max': 2048.0,\n",
       "  'physical_min': -2047.0,\n",
       "  'digital_max': 2048,\n",
       "  'digital_min': -2047,\n",
       "  'prefilter': 'Hold during 2 seconds',\n",
       "  'transducer': 'Marker button',\n",
       "  'idx': 6}}"
      ]
     },
     "execution_count": 5,
     "metadata": {},
     "output_type": "execute_result"
    }
   ],
   "source": [
    "# Create a dict of dicts with the label as the key and each dict including\n",
    "# the index of the corresponding data in signals\n",
    "# `shs` is short for 'signal_headers'\n",
    "shs = dict()\n",
    "for i, d in enumerate(signal_headers):\n",
    "  tmp = d\n",
    "  label = tmp.pop('label')\n",
    "  tmp['idx'] = i\n",
    "  shs[label] = tmp\n",
    "\n",
    "shs"
   ]
  },
  {
   "cell_type": "code",
   "execution_count": 6,
   "metadata": {},
   "outputs": [
    {
     "data": {
      "text/plain": [
       "{'technician': '',\n",
       " 'recording_additional': '',\n",
       " 'patientname': 'Male 26yr',\n",
       " 'patient_additional': '',\n",
       " 'patientcode': '',\n",
       " 'equipment': '',\n",
       " 'admincode': '',\n",
       " 'sex': 'Male',\n",
       " 'startdate': datetime.datetime(1989, 5, 1, 16, 29),\n",
       " 'birthdate': '',\n",
       " 'gender': 'Male',\n",
       " 'annotations': [[0.0, 28050.0, 'Sleep stage W'],\n",
       "  [28050.0, 60.0, 'Sleep stage 1'],\n",
       "  [28110.0, 60.0, 'Sleep stage W'],\n",
       "  [28170.0, 180.0, 'Sleep stage 1'],\n",
       "  [28350.0, 570.0, 'Sleep stage 2'],\n",
       "  [28920.0, 60.0, 'Sleep stage W'],\n",
       "  [28980.0, 30.0, 'Sleep stage 1'],\n",
       "  [29010.0, 30.0, 'Sleep stage W'],\n",
       "  [29040.0, 60.0, 'Sleep stage 1'],\n",
       "  [29100.0, 720.0, 'Sleep stage 2'],\n",
       "  [29820.0, 30.0, 'Sleep stage 3'],\n",
       "  [29850.0, 60.0, 'Sleep stage 2'],\n",
       "  [29910.0, 30.0, 'Sleep stage 3'],\n",
       "  [29940.0, 60.0, 'Sleep stage 2'],\n",
       "  [30000.0, 30.0, 'Sleep stage 3'],\n",
       "  [30030.0, 30.0, 'Sleep stage 2'],\n",
       "  [30060.0, 30.0, 'Sleep stage 3'],\n",
       "  [30090.0, 90.0, 'Sleep stage 2'],\n",
       "  [30180.0, 30.0, 'Sleep stage 3'],\n",
       "  [30210.0, 60.0, 'Sleep stage 2'],\n",
       "  [30270.0, 90.0, 'Sleep stage 3'],\n",
       "  [30360.0, 30.0, 'Sleep stage 2'],\n",
       "  [30390.0, 120.0, 'Sleep stage 3'],\n",
       "  [30510.0, 60.0, 'Sleep stage 4'],\n",
       "  [30570.0, 30.0, 'Sleep stage 3'],\n",
       "  [30600.0, 60.0, 'Sleep stage 1'],\n",
       "  [30660.0, 30.0, 'Sleep stage 3'],\n",
       "  [30690.0, 450.0, 'Sleep stage 2'],\n",
       "  [31140.0, 30.0, 'Sleep stage 4'],\n",
       "  [31170.0, 30.0, 'Sleep stage 3'],\n",
       "  [31200.0, 180.0, 'Sleep stage 2'],\n",
       "  [31380.0, 30.0, 'Sleep stage 3'],\n",
       "  [31410.0, 330.0, 'Sleep stage 2'],\n",
       "  [31740.0, 30.0, 'Sleep stage 3'],\n",
       "  [31770.0, 30.0, 'Sleep stage 2'],\n",
       "  [31800.0, 30.0, 'Sleep stage 3'],\n",
       "  [31830.0, 30.0, 'Sleep stage 2'],\n",
       "  [31860.0, 90.0, 'Sleep stage 3'],\n",
       "  [31950.0, 30.0, 'Sleep stage 4'],\n",
       "  [31980.0, 90.0, 'Sleep stage 3'],\n",
       "  [32070.0, 120.0, 'Sleep stage 4'],\n",
       "  [32190.0, 60.0, 'Sleep stage 3'],\n",
       "  [32250.0, 60.0, 'Sleep stage 4'],\n",
       "  [32310.0, 30.0, 'Sleep stage 3'],\n",
       "  [32340.0, 570.0, 'Sleep stage 4'],\n",
       "  [32910.0, 30.0, 'Sleep stage 3'],\n",
       "  [32940.0, 480.0, 'Sleep stage 4'],\n",
       "  [33420.0, 150.0, 'Sleep stage 3'],\n",
       "  [33570.0, 30.0, 'Sleep stage 2'],\n",
       "  [33600.0, 30.0, 'Sleep stage 3'],\n",
       "  [33630.0, 90.0, 'Sleep stage 2'],\n",
       "  [33720.0, 30.0, 'Sleep stage 3'],\n",
       "  [33750.0, 60.0, 'Sleep stage 2'],\n",
       "  [33810.0, 30.0, 'Sleep stage 3'],\n",
       "  [33840.0, 300.0, 'Sleep stage 2'],\n",
       "  [34140.0, 810.0, 'Sleep stage R'],\n",
       "  [34950.0, 60.0, 'Sleep stage 2'],\n",
       "  [35010.0, 30.0, 'Sleep stage 3'],\n",
       "  [35040.0, 180.0, 'Sleep stage 2'],\n",
       "  [35220.0, 30.0, 'Movement time'],\n",
       "  [35250.0, 690.0, 'Sleep stage 2'],\n",
       "  [35940.0, 30.0, 'Sleep stage 3'],\n",
       "  [35970.0, 30.0, 'Sleep stage 2'],\n",
       "  [36000.0, 30.0, 'Sleep stage 3'],\n",
       "  [36030.0, 390.0, 'Sleep stage 2'],\n",
       "  [36420.0, 60.0, 'Sleep stage 3'],\n",
       "  [36480.0, 60.0, 'Sleep stage 2'],\n",
       "  [36540.0, 30.0, 'Sleep stage 3'],\n",
       "  [36570.0, 90.0, 'Sleep stage 2'],\n",
       "  [36660.0, 30.0, 'Sleep stage 3'],\n",
       "  [36690.0, 30.0, 'Sleep stage 2'],\n",
       "  [36720.0, 30.0, 'Sleep stage 3'],\n",
       "  [36750.0, 60.0, 'Sleep stage 2'],\n",
       "  [36810.0, 60.0, 'Sleep stage 3'],\n",
       "  [36870.0, 90.0, 'Sleep stage 2'],\n",
       "  [36960.0, 60.0, 'Sleep stage 3'],\n",
       "  [37020.0, 30.0, 'Sleep stage 2'],\n",
       "  [37050.0, 90.0, 'Sleep stage 3'],\n",
       "  [37140.0, 30.0, 'Sleep stage 2'],\n",
       "  [37170.0, 210.0, 'Sleep stage 3'],\n",
       "  [37380.0, 120.0, 'Sleep stage 4'],\n",
       "  [37500.0, 30.0, 'Sleep stage 3'],\n",
       "  [37530.0, 120.0, 'Sleep stage 2'],\n",
       "  [37650.0, 30.0, 'Sleep stage 3'],\n",
       "  [37680.0, 240.0, 'Sleep stage 2'],\n",
       "  [37920.0, 30.0, 'Sleep stage 3'],\n",
       "  [37950.0, 660.0, 'Sleep stage 2'],\n",
       "  [38610.0, 30.0, 'Sleep stage 3'],\n",
       "  [38640.0, 150.0, 'Sleep stage 2'],\n",
       "  [38790.0, 30.0, 'Sleep stage 3'],\n",
       "  [38820.0, 930.0, 'Sleep stage 2'],\n",
       "  [39750.0, 1590.0, 'Sleep stage R'],\n",
       "  [41340.0, 30.0, 'Sleep stage W'],\n",
       "  [41370.0, 150.0, 'Sleep stage 2'],\n",
       "  [41520.0, 1170.0, 'Sleep stage R'],\n",
       "  [42690.0, 1710.0, 'Sleep stage 2'],\n",
       "  [44400.0, 30.0, 'Sleep stage 3'],\n",
       "  [44430.0, 30.0, 'Sleep stage 2'],\n",
       "  [44460.0, 120.0, 'Sleep stage 3'],\n",
       "  [44580.0, 120.0, 'Sleep stage 2'],\n",
       "  [44700.0, 90.0, 'Sleep stage 3'],\n",
       "  [44790.0, 3030.0, 'Sleep stage 2'],\n",
       "  [47820.0, 30.0, 'Sleep stage 3'],\n",
       "  [47850.0, 90.0, 'Sleep stage 2'],\n",
       "  [47940.0, 450.0, 'Sleep stage R'],\n",
       "  [48390.0, 150.0, 'Sleep stage 2'],\n",
       "  [48540.0, 570.0, 'Sleep stage R'],\n",
       "  [49110.0, 270.0, 'Sleep stage 2'],\n",
       "  [49380.0, 150.0, 'Sleep stage R'],\n",
       "  [49530.0, 1950.0, 'Sleep stage 2'],\n",
       "  [51480.0, 30.0, 'Sleep stage 3'],\n",
       "  [51510.0, 90.0, 'Sleep stage 2'],\n",
       "  [51600.0, 30.0, 'Sleep stage 3'],\n",
       "  [51630.0, 120.0, 'Sleep stage 2'],\n",
       "  [51750.0, 30.0, 'Sleep stage 3'],\n",
       "  [51780.0, 30.0, 'Sleep stage 2'],\n",
       "  [51810.0, 60.0, 'Sleep stage 3'],\n",
       "  [51870.0, 180.0, 'Sleep stage 2'],\n",
       "  [52050.0, 30.0, 'Sleep stage 3'],\n",
       "  [52080.0, 30.0, 'Sleep stage 2'],\n",
       "  [52110.0, 30.0, 'Sleep stage 3'],\n",
       "  [52140.0, 30.0, 'Sleep stage 2'],\n",
       "  [52170.0, 30.0, 'Sleep stage 3'],\n",
       "  [52200.0, 120.0, 'Sleep stage 2'],\n",
       "  [52320.0, 26940.0, 'Sleep stage W'],\n",
       "  [79260.0, 7140.0, 'Sleep stage ?']]}"
      ]
     },
     "execution_count": 6,
     "metadata": {},
     "output_type": "execute_result"
    }
   ],
   "source": [
    "hyp = hheader['annotations']\n",
    "hheader"
   ]
  },
  {
   "cell_type": "code",
   "execution_count": 7,
   "metadata": {},
   "outputs": [
    {
     "data": {
      "text/plain": [
       "(array([    0, 28050, 28110, 28170, 28350, 28920, 28980, 29010, 29040,\n",
       "        29100]),\n",
       " array([28050,    60,    60,   180,   570,    60,    30,    30,    60,\n",
       "          720]),\n",
       " array(['w', '1', 'w', '1', '2', 'w', '1', 'w', '1', '2'], dtype='<U1'))"
      ]
     },
     "execution_count": 7,
     "metadata": {},
     "output_type": "execute_result"
    }
   ],
   "source": [
    "# Get the timestamps of each sleep stage annotation\n",
    "# and the duration of that sleep stage\n",
    "timestamps = np.array([mark[0] for mark in hyp], dtype=int)\n",
    "durations = np.array([mark[1] for mark in hyp], dtype=int)\n",
    "\n",
    "# Get the labeled stages\n",
    "original_labels = \\\n",
    "  ['Sleep stage ?', 'Movement time', 'Sleep stage W',\n",
    "   'Sleep stage 1', 'Sleep stage 2', 'Sleep stage 3', 'Sleep stage 4', 'Sleep stage R']\n",
    "new_labels = ['?', 'm', 'w', '1', '2', '3', '4', 'r']\n",
    "label_map = { old : new for old, new in zip(original_labels, new_labels)}\n",
    "\n",
    "stages = np.array([label_map[mark[2]] for mark in hyp])\n",
    "\n",
    "timestamps[:10], durations[:10], stages[:10]"
   ]
  },
  {
   "cell_type": "code",
   "execution_count": 8,
   "metadata": {},
   "outputs": [
    {
     "data": {
      "text/plain": [
       "(500, 100)"
      ]
     },
     "execution_count": 8,
     "metadata": {},
     "output_type": "execute_result"
    }
   ],
   "source": [
    "# Fourier on segments of data of this length\n",
    "SECONDS = 10\n",
    "\n",
    "info = shs['EEG Fpz-Cz']\n",
    "data = signals[info['idx']]\n",
    "freq = info['sample_frequency']\n",
    "\n",
    "# The total number of samples\n",
    "n = len(data)\n",
    "\n",
    "# The number of samples per segment of SECONDS length\n",
    "k = samples_per_interval = int(freq * SECONDS)\n",
    "\n",
    "# The number of segments of SECONDS length\n",
    "length = n // k\n",
    "\n",
    "# The frequencies of the Fourier coefficients\n",
    "freqs = fftfreq(k, 1/freq)[: k//2]\n",
    "\n",
    "# Get the Fourier coefficients for each segment, saving in rows\n",
    "fourier = np.full((length, k//2), -np.inf)\n",
    "for i in range(length):\n",
    "  subset = data[k*i : k*(i+1)]\n",
    "  amps = np.real(fft(subset)[: k//2])\n",
    "\n",
    "  fourier[i] = amps\n",
    "\n",
    "T, N = fourier.shape\n",
    "\n",
    "# Get the indices into timestamps to find the current sleep stage\n",
    "hyp_frames = np.arange(T) * SECONDS\n",
    "\n",
    "# Get the index of the first timestamp that's less than or equal to frame\n",
    "# by getting the index of the first timestamp that's greater than frame,\n",
    "# then subtracting one.\n",
    "hyp_idx = np.array([np.maximum(np.argmax(frame < timestamps) - 1, 0) for frame in hyp_frames])\n",
    "hyp_stages = stages[hyp_idx]\n",
    "\n",
    "# 500 Fourier coefficients... Mostly zero after 100, so keep only the first 100\n",
    "top_freq_idx = 100\n",
    "Tmin, Tmax = 3250, 3750\n",
    "fourier = fourier[Tmin:Tmax, :top_freq_idx]\n",
    "T, N = fourier.shape\n",
    "\n",
    "T, N"
   ]
  },
  {
   "cell_type": "code",
   "execution_count": 9,
   "metadata": {},
   "outputs": [
    {
     "data": {
      "text/plain": [
       "<pykalman.standard.KalmanFilter at 0x7fe31a82f130>"
      ]
     },
     "execution_count": 9,
     "metadata": {},
     "output_type": "execute_result"
    }
   ],
   "source": [
    "sleep_stages=  ('m', 'w', '1', '2', '3', '4', 'r')\n",
    "# dim_x doesn't necessarily need to be the same as num_stages\n",
    "num_stages = len(sleep_stages)\n",
    "dim_x = num_stages\n",
    "dim_z = N\n",
    "\n",
    "# Init\n",
    "kf = KalmanFilter(n_dim_state=dim_x, n_dim_obs=dim_z)\n",
    "\n",
    "# Fit to fourier data with expectation maximization\n",
    "kf.em(fourier)"
   ]
  },
  {
   "cell_type": "code",
   "execution_count": 10,
   "metadata": {},
   "outputs": [],
   "source": [
    "# Predict the states for the fourier data\n",
    "states, covs = kf.smooth(fourier)"
   ]
  },
  {
   "cell_type": "code",
   "execution_count": 11,
   "metadata": {},
   "outputs": [
    {
     "data": {
      "text/plain": [
       "(500, 7)"
      ]
     },
     "execution_count": 11,
     "metadata": {},
     "output_type": "execute_result"
    }
   ],
   "source": [
    "# number of samples x dim_x\n",
    "states.shape"
   ]
  },
  {
   "cell_type": "code",
   "execution_count": 12,
   "metadata": {},
   "outputs": [
    {
     "data": {
      "text/plain": [
       "array([[  -47.5,  1074. ,   286. ,  -539.6,  2609.4, -1071.5, -1126.3],\n",
       "       [ -531.3,   623.5,   -36.8,  -579.7,  1404.1, -1447.3,  -369.3],\n",
       "       [ -682.8,   354.6,    30.3,  -179.3,   580.9, -1717. ,   497.4],\n",
       "       [ -751.1,   163.5,  -185.4,  -439.5,    10.1, -1995.2,   480.9],\n",
       "       [ -912.5,   -72.5,  -505.6,  -790.3,  -812. , -2455.8,   405.8],\n",
       "       [-1080.2,  -212.3,  -569.4, -1149.6, -1476.2, -2336.9,   487. ],\n",
       "       [-1232.3,  -238.3,  -618.7, -1584.4,  -927.4, -1978.9,  -110.8],\n",
       "       [-1258.2,  -239.2,  -234.7, -1421.8,  -937. , -1264.6,   165.5],\n",
       "       [-1244.6,  -246.6,   -34.5, -1263. ,  -784.6, -1153.9,    30.7],\n",
       "       [-1208.7,  -102.1,   145.8, -1451.4,   -81.4,  -888.5,    56.9]])"
      ]
     },
     "execution_count": 12,
     "metadata": {},
     "output_type": "execute_result"
    }
   ],
   "source": [
    "# Sample of states\n",
    "np.round(states, 1)[:10]"
   ]
  },
  {
   "cell_type": "code",
   "execution_count": 106,
   "metadata": {},
   "outputs": [
    {
     "data": {
      "text/plain": [
       "array(['4', '4', '4', '4', '4', '4', '4', '4', '4', '4', '4', '4', '4',\n",
       "       '4', '4', '4', '4', '4', '4', '4', '4', '4', '4', '4', '4', '4',\n",
       "       '4', '4', '4', '4', '4', '4', '4', '4', '4', '4', '4', '4', '4',\n",
       "       '4', '4', '3', '3', '3', '4', '4', '4', '4', '4', '4', '4', '4',\n",
       "       '4', '4', '4', '4', '4', '4', '4', '4', '4', '4', '4', '4', '4',\n",
       "       '4', '4', '4', '4', '4', '4', '4', '4', '4', '4', '4', '4', '4',\n",
       "       '4', '4', '4', '4', '4', '4', '4', '4', '4', '4', '4', '4', '4',\n",
       "       '4', '3', '3', '3', '3', '3', '3', '3', '3', '3', '3', '3', '3',\n",
       "       '3', '3', '3', '2', '2', '2', '3', '3', '3', '2', '2', '2', '2',\n",
       "       '2', '2', '2', '2', '2', '3', '3', '3', '2', '2', '2', '2', '2',\n",
       "       '2', '3', '3', '3', '2', '2', '2', '2', '2', '2', '2', '2', '2',\n",
       "       '2', '2', '2', '2', '2', '2', '2', '2', '2', '2', '2', '2', '2',\n",
       "       '2', '2', '2', '2', '2', '2', '2', '2', 'r', 'r', 'r', 'r', 'r',\n",
       "       'r', 'r', 'r', 'r', 'r', 'r', 'r', 'r', 'r', 'r', 'r', 'r', 'r',\n",
       "       'r', 'r', 'r', 'r', 'r', 'r', 'r', 'r', 'r', 'r', 'r', 'r', 'r',\n",
       "       'r', 'r', 'r', 'r', 'r', 'r', 'r', 'r', 'r', 'r', 'r', 'r', 'r',\n",
       "       'r', 'r', 'r', 'r', 'r', 'r', 'r', 'r', 'r', 'r', 'r', 'r', 'r',\n",
       "       'r', 'r', 'r', 'r', 'r', 'r', 'r', 'r', 'r', 'r', 'r', 'r', 'r',\n",
       "       'r', 'r', 'r', 'r', 'r', 'r', 'r', 'r', 'r', 'r', 'r', '2', '2',\n",
       "       '2', '2', '2', '2', '3', '3', '3', '2', '2', '2', '2', '2', '2',\n",
       "       '2', '2', '2', '2', '2', '2', '2', '2', '2', '2', '2', '2', 'm',\n",
       "       'm', 'm', '2', '2', '2', '2', '2', '2', '2', '2', '2', '2', '2',\n",
       "       '2', '2', '2', '2', '2', '2', '2', '2', '2', '2', '2', '2', '2',\n",
       "       '2', '2', '2', '2', '2', '2', '2', '2', '2', '2', '2', '2', '2',\n",
       "       '2', '2', '2', '2', '2', '2', '2', '2', '2', '2', '2', '2', '2',\n",
       "       '2', '2', '2', '2', '2', '2', '2', '2', '2', '2', '2', '2', '2',\n",
       "       '2', '2', '2', '2', '2', '2', '3', '3', '3', '2', '2', '2', '3',\n",
       "       '3', '3', '2', '2', '2', '2', '2', '2', '2', '2', '2', '2', '2',\n",
       "       '2', '2', '2', '2', '2', '2', '2', '2', '2', '2', '2', '2', '2',\n",
       "       '2', '2', '2', '2', '2', '2', '2', '2', '2', '2', '2', '2', '2',\n",
       "       '2', '2', '3', '3', '3', '3', '3', '3', '2', '2', '2', '2', '2',\n",
       "       '2', '3', '3', '3', '2', '2', '2', '2', '2', '2', '2', '2', '2',\n",
       "       '3', '3', '3', '2', '2', '2', '3', '3', '3', '2', '2', '2', '2',\n",
       "       '2', '2', '3', '3', '3', '3', '3', '3', '2', '2', '2', '2', '2',\n",
       "       '2', '2', '2', '2', '3', '3', '3', '3', '3', '3', '2', '2', '2',\n",
       "       '3', '3', '3', '3', '3', '3', '3', '3', '3', '2', '2', '2', '3',\n",
       "       '3', '3', '3', '3', '3', '3', '3', '3', '3', '3', '3', '3', '3',\n",
       "       '3', '3', '3', '3', '3', '3', '3', '4', '4', '4', '4', '4', '4',\n",
       "       '4', '4', '4', '4', '4', '4'], dtype='<U1')"
      ]
     },
     "execution_count": 106,
     "metadata": {},
     "output_type": "execute_result"
    }
   ],
   "source": [
    "# Sleep stage labels\n",
    "labels = hyp_stages[Tmin:Tmax]\n",
    "labels"
   ]
  },
  {
   "cell_type": "code",
   "execution_count": 107,
   "metadata": {},
   "outputs": [
    {
     "data": {
      "text/plain": [
       "array([3, 3, 3, 3, 3, 3, 3, 3, 3, 3, 3, 3, 3, 3, 3, 3, 3, 3, 3, 3, 3, 3,\n",
       "       3, 3, 3, 3, 3, 3, 3, 3, 3, 3, 3, 3, 3, 3, 3, 3, 3, 3, 3, 2, 2, 2,\n",
       "       3, 3, 3, 3, 3, 3, 3, 3, 3, 3, 3, 3, 3, 3, 3, 3, 3, 3, 3, 3, 3, 3,\n",
       "       3, 3, 3, 3, 3, 3, 3, 3, 3, 3, 3, 3, 3, 3, 3, 3, 3, 3, 3, 3, 3, 3,\n",
       "       3, 3, 3, 3, 2, 2, 2, 2, 2, 2, 2, 2, 2, 2, 2, 2, 2, 2, 2, 1, 1, 1,\n",
       "       2, 2, 2, 1, 1, 1, 1, 1, 1, 1, 1, 1, 2, 2, 2, 1, 1, 1, 1, 1, 1, 2,\n",
       "       2, 2, 1, 1, 1, 1, 1, 1, 1, 1, 1, 1, 1, 1, 1, 1, 1, 1, 1, 1, 1, 1,\n",
       "       1, 1, 1, 1, 1, 1, 1, 1, 1, 1, 5, 5, 5, 5, 5, 5, 5, 5, 5, 5, 5, 5,\n",
       "       5, 5, 5, 5, 5, 5, 5, 5, 5, 5, 5, 5, 5, 5, 5, 5, 5, 5, 5, 5, 5, 5,\n",
       "       5, 5, 5, 5, 5, 5, 5, 5, 5, 5, 5, 5, 5, 5, 5, 5, 5, 5, 5, 5, 5, 5,\n",
       "       5, 5, 5, 5, 5, 5, 5, 5, 5, 5, 5, 5, 5, 5, 5, 5, 5, 5, 5, 5, 5, 5,\n",
       "       5, 5, 5, 1, 1, 1, 1, 1, 1, 2, 2, 2, 1, 1, 1, 1, 1, 1, 1, 1, 1, 1,\n",
       "       1, 1, 1, 1, 1, 1, 1, 1, 4, 4, 4, 1, 1, 1, 1, 1, 1, 1, 1, 1, 1, 1,\n",
       "       1, 1, 1, 1, 1, 1, 1, 1, 1, 1, 1, 1, 1, 1, 1, 1, 1, 1, 1, 1, 1, 1,\n",
       "       1, 1, 1, 1, 1, 1, 1, 1, 1, 1, 1, 1, 1, 1, 1, 1, 1, 1, 1, 1, 1, 1,\n",
       "       1, 1, 1, 1, 1, 1, 1, 1, 1, 1, 1, 1, 1, 1, 2, 2, 2, 1, 1, 1, 2, 2,\n",
       "       2, 1, 1, 1, 1, 1, 1, 1, 1, 1, 1, 1, 1, 1, 1, 1, 1, 1, 1, 1, 1, 1,\n",
       "       1, 1, 1, 1, 1, 1, 1, 1, 1, 1, 1, 1, 1, 1, 1, 1, 1, 1, 2, 2, 2, 2,\n",
       "       2, 2, 1, 1, 1, 1, 1, 1, 2, 2, 2, 1, 1, 1, 1, 1, 1, 1, 1, 1, 2, 2,\n",
       "       2, 1, 1, 1, 2, 2, 2, 1, 1, 1, 1, 1, 1, 2, 2, 2, 2, 2, 2, 1, 1, 1,\n",
       "       1, 1, 1, 1, 1, 1, 2, 2, 2, 2, 2, 2, 1, 1, 1, 2, 2, 2, 2, 2, 2, 2,\n",
       "       2, 2, 1, 1, 1, 2, 2, 2, 2, 2, 2, 2, 2, 2, 2, 2, 2, 2, 2, 2, 2, 2,\n",
       "       2, 2, 2, 2, 3, 3, 3, 3, 3, 3, 3, 3, 3, 3, 3, 3])"
      ]
     },
     "execution_count": 107,
     "metadata": {},
     "output_type": "execute_result"
    }
   ],
   "source": [
    "# Create an ordinal encoding of sleep stages to use with the linear layer and cross-entropy loss\n",
    "enc = OrdinalEncoder(dtype=int)\n",
    "enc.fit(np.array([sleep_stages]).T)\n",
    "ordinal_labels = enc.transform(labels[:, np.newaxis]).squeeze()\n",
    "all_labels = enc.transform(np.array([sleep_stages]).T).squeeze()\n",
    "ordinal_labels"
   ]
  },
  {
   "cell_type": "code",
   "execution_count": 119,
   "metadata": {},
   "outputs": [
    {
     "data": {
      "image/png": "[encoded data removed]",
      "text/plain": [
       "<Figure size 1008x432 with 3 Axes>"
      ]
     },
     "metadata": {
      "needs_background": "light"
     },
     "output_type": "display_data"
    }
   ],
   "source": [
    "# Init linear layer and training procedure\n",
    "torch.manual_seed(42)\n",
    "linear = nn.Linear(dim_x, num_stages, dtype=float)\n",
    "lr = 1e-4\n",
    "opt = optim.SGD(params=linear.parameters(), lr=lr)\n",
    "criterion = nn.CrossEntropyLoss()\n",
    "EPOCHS = 50\n",
    "\n",
    "# Train-validation split\n",
    "val_size = 0.3\n",
    "train_states, val_states, train_labels, val_labels = \\\n",
    "  map(tensor, train_test_split(states, ordinal_labels, test_size=val_size, random_state=42))\n",
    "\n",
    "# Record losses and accuracies\n",
    "losses = np.full(EPOCHS, np.inf)\n",
    "train_accs = np.full(EPOCHS, - np.inf)\n",
    "val_accs = np.full(EPOCHS, - np.inf)\n",
    "\n",
    "for i in range(EPOCHS):\n",
    "  # Run states through linear layer\n",
    "  train_outputs = linear(train_states)\n",
    "\n",
    "  # Backprop through linear layer\n",
    "  loss = criterion(train_outputs, train_labels)\n",
    "  losses[i] = loss.item()\n",
    "  loss.backward()\n",
    "  opt.step()\n",
    "  opt.zero_grad()\n",
    "\n",
    "  # Get accuracy on train set\n",
    "  train_preds = torch.argmax(train_outputs, axis=1)\n",
    "  acc = accuracy_score(train_labels, train_preds)\n",
    "  train_accs[i] = acc\n",
    "\n",
    "  # Get accuracy on validation set\n",
    "  val_outputs = linear(val_states)\n",
    "  val_preds = torch.argmax(val_outputs, axis=1)\n",
    "  acc = accuracy_score(val_labels, val_preds)\n",
    "  val_accs[i] = acc\n",
    "\n",
    "fig, axs = plt.subplots(1, 3, figsize=(14, 6))\n",
    "\n",
    "### Loss\n",
    "ax = axs[0]\n",
    "ax.plot(losses)\n",
    "ax.set_title('train loss')\n",
    "ax.set_xlabel('epoch')\n",
    "\n",
    "### Accuracy\n",
    "ax = axs[1]\n",
    "ax.plot(train_accs, label='train')\n",
    "ax.plot(val_accs, label='validation')\n",
    "ax.set_title('accuracy')\n",
    "ax.set_xlabel('epoch')\n",
    "ax.set_ylim(0)\n",
    "ax.legend()\n",
    "\n",
    "### Distribution of true sleep stages\n",
    "ax = axs[2]\n",
    "# Number of occurrences of sleep stages\n",
    "unique_train_labels, train_counts = np.unique(train_labels, return_counts=True)\n",
    "unique_val_labels, val_counts = np.unique(val_labels, return_counts=True)\n",
    "\n",
    "# Proportions of each label\n",
    "train_props = train_counts / np.sum(train_counts)\n",
    "val_props = val_counts / np.sum(val_counts)\n",
    "\n",
    "# PLot\n",
    "width = 0.4\n",
    "ax.bar(unique_train_labels - width/2, train_props, width=width, label='train')\n",
    "ax.bar(unique_val_labels + width/2, val_props, width=width, label='validation')\n",
    "\n",
    "ax.set_title('distribution of true sleep stages')\n",
    "ax.set_xlabel('sleep stage')\n",
    "ax.legend()\n",
    "ax.set_xticks(all_labels, sleep_stages)\n",
    "ax.set_xlim(-1/2, num_stages - 1/2)\n",
    "\n",
    "# Share y axes between accuracy and distribution plots\n",
    "ax.sharey(axs[1])\n",
    "\n",
    "fig.tight_layout()\n",
    "fig.show()"
   ]
  },
  {
   "cell_type": "markdown",
   "metadata": {},
   "source": [
    "The training loss seems to approximately converge to a minimum, and the training and validation accuracy reach a maximum and then oscillate. However, a look at the distribution of true labels reveals that the model isn't doing any better than guessing the most common sleep state."
   ]
  },
  {
   "cell_type": "code",
   "execution_count": null,
   "metadata": {},
   "outputs": [],
   "source": [
    "# TODO: train Kalman, then try to predict next states/observations\n",
    "# TODO: train Kalman and linear on one person, then run Kalman on other person and run through linear"
   ]
  }
 ],
 "metadata": {
  "kernelspec": {
   "display_name": "Python 3",
   "language": "python",
   "name": "python3"
  },
  "language_info": {
   "codemirror_mode": {
    "name": "ipython",
    "version": 3
   },
   "file_extension": ".py",
   "mimetype": "text/x-python",
   "name": "python",
   "nbconvert_exporter": "python",
   "pygments_lexer": "ipython3",
   "version": "3.10.12"
  }
 },
 "nbformat": 4,
 "nbformat_minor": 2
}
