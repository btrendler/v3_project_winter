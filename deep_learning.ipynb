{
 "cells": [
  {
   "cell_type": "code",
   "execution_count": 14,
   "outputs": [],
   "source": [
    "import torch\n",
    "import torch.nn as nn\n",
    "import torch.optim as optim\n",
    "from torchvision import datasets, transforms\n",
    "from torch.utils.data import DataLoader\n",
    "import matplotlib.pyplot as plt\n",
    "import numpy as np\n",
    "from tqdm import tqdm\n",
    "\n",
    "import warnings\n",
    "warnings.filterwarnings(\"ignore\")\n",
    "\n",
    "assert torch.cuda.is_available()"
   ],
   "metadata": {
    "collapsed": false,
    "ExecuteTime": {
     "end_time": "2024-04-10T17:04:59.606591900Z",
     "start_time": "2024-04-10T17:04:59.596975Z"
    }
   },
   "id": "2a2d5fc1d50ac653"
  },
  {
   "cell_type": "code",
   "execution_count": 15,
   "outputs": [],
   "source": [
    "DEP_COL = \"_HYPNO-mode\"\n",
    "\n",
    "# Utility functions to load in the data\n",
    "dataset = np.load(\"sc-agg-f16-veryhighdim.npz\")\n",
    "\n",
    "# Create a reproducible sample of rows from the given set\n",
    "def generate_sample(size_per, set_name=\"train_patients\", random_state=42):\n",
    "    # Set up the random state & the row storage\n",
    "    r = np.random.RandomState(random_state)\n",
    "    rows = []\n",
    "\n",
    "    # Loop through each person in the named set and select that number of rows, randomly\n",
    "    for entry in dataset[set_name]:\n",
    "        entry_set = dataset[entry]\n",
    "        to_get = size_per if type(size_per) is int else int(size_per * entry_set.shape[0])\n",
    "        selection = r.choice(range(entry_set.shape[0]), size=to_get, replace=False)\n",
    "        rows.extend(entry_set[selection])\n",
    "\n",
    "    # Return the sample and the labels\n",
    "    return np.array(rows, dtype=float), dataset[\"labels\"]\n",
    "\n",
    "# Convert a sample to X and y pairs, with numeric values in the place of NaNs\n",
    "def to_xy_numeric(sample, labels):\n",
    "    dep_col_idx = np.where(labels == DEP_COL)[0]\n",
    "    X = np.delete(sample, dep_col_idx, axis=1)\n",
    "    y = sample[:, dep_col_idx]\n",
    "    y[np.isnan(y)] = 6\n",
    "    return X, y\n",
    "\n",
    "transform = transforms.Compose([transforms.ToTensor(), transforms.Normalize((0.,),(1.,))])\n",
    "def to_torch_data(X, y):\n",
    "    y = y.ravel()\n",
    "    \n",
    "    y_enc = np.zeros((y.size, int(y.max() + 1)), dtype=int)\n",
    "    y_enc[np.arange(y.size), y.astype(int)] = 1\n",
    "    \n",
    "    entries = []\n",
    "    for row, y_enc_part in zip(X, y_enc):\n",
    "        entries.append([transform(row.reshape((-1, 1))).to(torch.float32), torch.from_numpy(y_enc_part).to(torch.float32)])\n",
    "    \n",
    "    return entries"
   ],
   "metadata": {
    "collapsed": false,
    "ExecuteTime": {
     "end_time": "2024-04-10T17:05:02.289568400Z",
     "start_time": "2024-04-10T17:05:02.234277800Z"
    }
   },
   "id": "ae75647a46c9a5ac"
  },
  {
   "cell_type": "code",
   "execution_count": 16,
   "id": "initial_id",
   "metadata": {
    "collapsed": true,
    "ExecuteTime": {
     "end_time": "2024-04-10T17:05:21.766143300Z",
     "start_time": "2024-04-10T17:05:05.135897700Z"
    }
   },
   "outputs": [
    {
     "name": "stdout",
     "output_type": "stream",
     "text": [
      "CUDA:  Yes\n"
     ]
    }
   ],
   "source": [
    "# Create the device variable\n",
    "device = torch.device(\"cuda:0\" if torch.cuda.is_available() else \"cpu\")\n",
    "print(\"CUDA: \", \"Yes\" if torch.cuda.is_available() else \"No\")\n",
    "\n",
    "# Load the training & data set\n",
    "train_data = to_torch_data(*to_xy_numeric(*generate_sample(1., random_state=1919)))\n",
    "validate_data = to_torch_data(*to_xy_numeric(*generate_sample(1., set_name=\"validate_patients\", random_state=456)))\n",
    "test_data = to_torch_data(*to_xy_numeric(*generate_sample(1., set_name=\"test_patients\", random_state=456)))"
   ]
  },
  {
   "cell_type": "code",
   "execution_count": 17,
   "outputs": [],
   "source": [
    "# Create the data loaders\n",
    "train_ldr = DataLoader(train_data, batch_size=128, shuffle=True)\n",
    "validate_ldr = DataLoader(validate_data, batch_size=32, shuffle=False)\n",
    "test_ldr = DataLoader(test_data, batch_size=32, shuffle=False)"
   ],
   "metadata": {
    "collapsed": false,
    "ExecuteTime": {
     "end_time": "2024-04-10T17:05:35.172008100Z",
     "start_time": "2024-04-10T17:05:34.361708400Z"
    }
   },
   "id": "54c5db96ec0165c6"
  },
  {
   "cell_type": "code",
   "execution_count": 19,
   "outputs": [
    {
     "name": "stdout",
     "output_type": "stream",
     "text": [
      "Number of Parameters: 80775\n"
     ]
    }
   ],
   "source": [
    "class NNConvo(nn.Module):\n",
    "    def __init__(self):\n",
    "        super().__init__()\n",
    "        \n",
    "        self.flatten = nn.Flatten()\n",
    "        self.l1 = nn.Linear(in_features=467, out_features=128)\n",
    "        self.a1 = nn.ReLU()\n",
    "        self.dropout2 = nn.Dropout(0.1)\n",
    "        self.l2 = nn.Linear(in_features=128, out_features=128)\n",
    "        self.a2 = nn.ReLU()\n",
    "        self.l3 = nn.Linear(in_features=128, out_features=32)\n",
    "        self.a3 = nn.ReLU()\n",
    "        self.l4 = nn.Linear(in_features=32, out_features=7)\n",
    "        \n",
    "    def forward(self, x):\n",
    "        return self.l4(self.a3(self.l3(self.a2(self.l2(self.dropout2(self.a1(self.l1(self.flatten(x)))))))))\n",
    "    \n",
    "model = NNConvo()\n",
    "model(train_data[0][0])\n",
    "\n",
    "print(\"Number of Parameters:\", sum([p.numel() for p in filter(lambda p: p.requires_grad, model.parameters())]))"
   ],
   "metadata": {
    "collapsed": false,
    "ExecuteTime": {
     "end_time": "2024-04-10T17:05:52.151078900Z",
     "start_time": "2024-04-10T17:05:52.081104Z"
    }
   },
   "id": "27f11afdeb773e0e"
  },
  {
   "cell_type": "code",
   "execution_count": 20,
   "outputs": [
    {
     "name": "stderr",
     "output_type": "stream",
     "text": [
      "epoch:49, validation:0.4718...: 100%|██████████| 207350/207350 [07:12<00:00, 479.01it/s] \n"
     ]
    }
   ],
   "source": [
    "num_epochs = 50\n",
    "\n",
    "model = model.to(device)\n",
    "\n",
    "objective = nn.CrossEntropyLoss()\n",
    "optimizer = optim.SGD(model.parameters(), lr=1e-4, momentum=1e-5, nesterov=True)\n",
    "\n",
    "# Store details about epochs\n",
    "epoch_loss = []\n",
    "epoch_val_loss = []\n",
    "epoch_acc = []\n",
    "\n",
    "# Set up the loop\n",
    "loop = tqdm(total=(len(train_ldr) + len(validate_ldr)) * num_epochs, position=0)\n",
    "loss_list = []\n",
    "validation_loss_list = []\n",
    "\n",
    "highest = 0\n",
    "\n",
    "for epoch in range(num_epochs):\n",
    "    # Set model to training mode\n",
    "    model.train()\n",
    "    for x, y_truth in train_ldr:\n",
    "        # Zero out the gradients\n",
    "        optimizer.zero_grad()\n",
    "        \n",
    "        # Predict labels\n",
    "        x, y_truth = x.to(device), y_truth.to(device)\n",
    "        y_hat = model(x)\n",
    "        \n",
    "        # Calculate loss & back-propagate\n",
    "        loss = objective(y_hat, y_truth)\n",
    "        loss.backward()\n",
    "        \n",
    "        # Optimize & update weights\n",
    "        optimizer.step()\n",
    "        \n",
    "        # Update the loop display\n",
    "        loop.set_description('epoch:{}, loss:{:.4f}'.format(epoch, loss.item()))\n",
    "        loop.update()\n",
    "        \n",
    "        # Save the loss\n",
    "        loss_list.append(loss.item())\n",
    "    \n",
    "    # Save the loss mean\n",
    "    epoch_loss.append(np.mean(loss_list))\n",
    "    loss_list = []\n",
    "    \n",
    "    # Compute validation accuracy\n",
    "    model.eval()\n",
    "    validation_score = 0\n",
    "    for x, y_truth in validate_ldr:\n",
    "        # Move to device\n",
    "        x, y_truth = x.to(device), y_truth.to(device)\n",
    "        \n",
    "        # Make prediction\n",
    "        y_hat = model(x)\n",
    "        \n",
    "        # Compute validation loss\n",
    "        validation_loss = objective(y_hat, y_truth).item()\n",
    "        validation_loss_list.append(validation_loss)\n",
    "        \n",
    "        # calculate accuracy\n",
    "        validation_score += sum(torch.eq(y_truth.argmax(1), y_hat.argmax(1))) / len(x)\n",
    "        \n",
    "        # Update loop display\n",
    "        loop.set_description('epoch:{}, validation:{:.4f}...'.format(epoch, validation_loss))\n",
    "        loop.update()\n",
    "    epoch_val_loss.append(np.mean(validation_loss_list))\n",
    "    validation_loss_list = []\n",
    "    epoch_acc.append(validation_score.item() / len(validate_ldr))\n",
    "    \n",
    "    if epoch_acc[-1] > highest:\n",
    "        torch.save(model.state_dict(), f'saves/{epoch_acc[-1]}.ckpt')\n",
    "        highest = epoch_acc[-1]\n",
    "\n",
    "# Close the loop\n",
    "loop.close()"
   ],
   "metadata": {
    "collapsed": false,
    "ExecuteTime": {
     "end_time": "2024-04-10T17:13:08.820711100Z",
     "start_time": "2024-04-10T17:05:55.935048500Z"
    }
   },
   "id": "ce55a168ab6dcbf3"
  },
  {
   "cell_type": "code",
   "execution_count": 21,
   "outputs": [
    {
     "data": {
      "text/plain": "<Figure size 800x400 with 2 Axes>",
      "image/png": "[encoded data removed]"
     },
     "metadata": {},
     "output_type": "display_data"
    }
   ],
   "source": [
    "# Plot the mean losses and validation accuracies\n",
    "plt.figure(figsize=(8,4))\n",
    "plt.subplot(121)\n",
    "plt.plot(epoch_loss, label=\"Training\")\n",
    "plt.plot(epoch_val_loss, label=\"Validation\")\n",
    "plt.xlabel(\"Epoch\")\n",
    "plt.ylabel(\"Loss\")\n",
    "plt.legend()\n",
    "plt.title(\"Mean Training Losses per Epoch\")\n",
    "\n",
    "plt.subplot(122)\n",
    "plt.plot(epoch_acc)\n",
    "plt.xlabel(\"Epoch\")\n",
    "plt.ylabel(\"Validation Accuracy\")\n",
    "plt.title(\"Validation Accuracy per Epoch\")\n",
    "plt.tight_layout()\n",
    "plt.show()"
   ],
   "metadata": {
    "collapsed": false,
    "ExecuteTime": {
     "end_time": "2024-04-10T17:14:23.023911900Z",
     "start_time": "2024-04-10T17:14:22.845938800Z"
    }
   },
   "id": "eb2f9f88d3a68a9b"
  },
  {
   "cell_type": "code",
   "execution_count": 22,
   "outputs": [
    {
     "name": "stdout",
     "output_type": "stream",
     "text": [
      "Overall Accuracy on Test Data: 0.8776520726024037\n"
     ]
    }
   ],
   "source": [
    "# Loop over all the test points\n",
    "score = 0\n",
    "for i, (x_orig, y_truth) in enumerate(test_ldr):\n",
    "    # Move data to the GPU\n",
    "    x_orig, y_truth = x_orig.to(device), y_truth.to(device)\n",
    "    \n",
    "    # Compute the perturbed image and store it if it is the first\n",
    "    y_hat = model(x_orig.to(device))\n",
    "    \n",
    "    # Compute the test accuracy\n",
    "    score += sum(torch.eq(y_truth.argmax(1), y_hat.argmax(1))) / len(x_orig)\n",
    "\n",
    "# Print the accuracy\n",
    "print(\"Overall Accuracy on Test Data:\", score.item() / len(test_ldr))"
   ],
   "metadata": {
    "collapsed": false,
    "ExecuteTime": {
     "end_time": "2024-04-10T17:14:54.115717700Z",
     "start_time": "2024-04-10T17:14:49.363287900Z"
    }
   },
   "id": "71e1d75250370881"
  },
  {
   "cell_type": "code",
   "execution_count": 23,
   "outputs": [
    {
     "name": "stdout",
     "output_type": "stream",
     "text": [
      "Overall Accuracy on Test Data: 0.8753909124356144\n"
     ]
    }
   ],
   "source": [
    "# Load checkpoint\n",
    "model.load_state_dict(torch.load(\"saves/0.878475892310049.ckpt\"))\n",
    "\n",
    "# Loop over all the test points\n",
    "score = 0\n",
    "for i, (x_orig, y_truth) in enumerate(test_ldr):\n",
    "    # Move data to the GPU\n",
    "    x_orig, y_truth = x_orig.to(device), y_truth.to(device)\n",
    "    \n",
    "    # Compute the perturbed image and store it if it is the first\n",
    "    y_hat = model(x_orig.to(device))\n",
    "    \n",
    "    # Compute the test accuracy\n",
    "    score += sum(torch.eq(y_truth.argmax(1), y_hat.argmax(1))) / len(x_orig)\n",
    "\n",
    "# Print the accuracy\n",
    "print(\"Overall Accuracy on Test Data:\", score.item() / len(test_ldr))"
   ],
   "metadata": {
    "collapsed": false,
    "ExecuteTime": {
     "end_time": "2024-04-10T17:15:04.128916900Z",
     "start_time": "2024-04-10T17:14:59.553299500Z"
    }
   },
   "id": "c180ce054525f5d5"
  }
 ],
 "metadata": {
  "kernelspec": {
   "display_name": "Python 3",
   "language": "python",
   "name": "python3"
  },
  "language_info": {
   "codemirror_mode": {
    "name": "ipython",
    "version": 2
   },
   "file_extension": ".py",
   "mimetype": "text/x-python",
   "name": "python",
   "nbconvert_exporter": "python",
   "pygments_lexer": "ipython2",
   "version": "2.7.6"
  }
 },
 "nbformat": 4,
 "nbformat_minor": 5
}
